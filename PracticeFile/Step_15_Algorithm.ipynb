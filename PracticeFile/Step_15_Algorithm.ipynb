{
 "cells": [
  {
   "cell_type": "code",
   "execution_count": 14,
   "metadata": {},
   "outputs": [],
   "source": [
    "def find_two_smallest_1(L):\n",
    "    \"\"\"(list of float) -> tuple of (int, int)\n",
    "    Return a tuple of the indicies of the two smallest values in list L.\n",
    "    >>> find_two_smallest([809, 834, 477, 478, 307, 122, 96, 102, 324, 476])\n",
    "    (6,7)\n",
    "    \"\"\"\n",
    "    # Get the minimum item in L\n",
    "    # Find the index of that minimum item\n",
    "    # Remove that item from the list\n",
    "    # Find the index of the new minimum item in the list\n",
    "    # Put the smallest item back in the list\n",
    "    # If neccessary, adjust the second index\n",
    "    # Return the two indices\n",
    "    \n",
    "    smallest = min(L)\n",
    "    min1 = L.index(smallest)\n",
    "    L.remove(smallest)\n",
    "    next_smallest = min(L)\n",
    "    min2 = L.index(next_smallest)\n",
    "    L.insert(min1, smallest)\n",
    "    if (min1 <= min2):\n",
    "        min2 +=1 \n",
    "    else:\n",
    "        i = min1\n",
    "        min1 = min2\n",
    "        min2 = i\n",
    "        # 오름차순 정렬\n",
    "        \n",
    "    return (min1, min2)\n"
   ]
  },
  {
   "cell_type": "code",
   "execution_count": 20,
   "metadata": {},
   "outputs": [],
   "source": [
    "def find_two_smallest_2(L):\n",
    "    \"\"\"(list of float) -> tuple of (int, int)\n",
    "    Return a tuple of the indices of the two smallest values in that L.\n",
    "    >>> find_two_smallest([809, 834, 477, 478, 307, 122, 96, 102, 324, 476])\n",
    "    (6,7)\n",
    "    \"\"\"\n",
    "    \n",
    "    # Sort a  copy of L\n",
    "    # Get the two smallest numbers\n",
    "    # Find their indices in the original list L\n",
    "    # Return the two indices\n",
    "    \n",
    "    sort_list= sorted(L)\n",
    "    smallest = sort_list[0]\n",
    "    next_smallest = sort_list[1]\n",
    "    min1 = L.index(smallest) \n",
    "    min2 = L.index(next_smallest)\n",
    "    \n",
    "    return (min1, min2)\n",
    "\n"
   ]
  },
  {
   "cell_type": "code",
   "execution_count": 16,
   "metadata": {},
   "outputs": [],
   "source": [
    "def find_two_smallest_3(L):\n",
    "    \"\"\"(list of float) -> tuple of (int, int)\n",
    "    Return a tuple of the indices of the two smallest values in that L.\n",
    "    >>> find_two_smallest([809, 834, 477, 478, 307, 122, 96, 102, 324, 476])\n",
    "    (6,7)\n",
    "    \"\"\"\n",
    "    \n",
    "    # Set min1 and min2 to the indices of the smallest and next-smallest \n",
    "    # Values at the beginning of L\n",
    "    # Examine each value in the list in order\n",
    "    # Update these values when a new similar value is found\n",
    "    # Return the two indices\n",
    "    \n",
    "    min1, min2 = (0,1)\n",
    "    # 첫번쨰 원소와 두번째 원소 사이의 크기 비교 후 오름차순 정렬\n",
    "    if (L[min1] > L[min2]):\n",
    "        temp = min1\n",
    "        min1 = min2\n",
    "        min2 = temp\n",
    "    #2번째 요소부터 검사 시작\n",
    "    for elem in range(2,len(L)):\n",
    "        #새로등장하는 요소가 두번째로 작을 시\n",
    "        if (L[min1] < L[elem] < L[min2]):\n",
    "            min2 = elem\n",
    "        #새로 등장하는 요소가 첫번째(제일)로 작을 시\n",
    "        elif(L[min1]>L[elem]):\n",
    "            min2 = min1\n",
    "            min1 =elem\n",
    "        \n",
    "    return (min1, min2)\n"
   ]
  },
  {
   "cell_type": "code",
   "execution_count": 21,
   "metadata": {
    "scrolled": true
   },
   "outputs": [
    {
     "name": "stdout",
     "output_type": "stream",
     "text": [
      "(6, 7)\n",
      "(0, 1)\n",
      "(0, 1)\n",
      "(3, 4)\n",
      "(2, 4)\n",
      "(6, 7)\n",
      "(0, 1)\n",
      "(1, 0)\n",
      "(4, 3)\n",
      "(2, 4)\n",
      "(6, 7)\n",
      "(0, 1)\n",
      "(1, 0)\n",
      "(4, 3)\n",
      "(2, 4)\n"
     ]
    }
   ],
   "source": [
    "counts = [809, 834, 477, 478, 307, 122, 96, 102, 324, 476]\n",
    "a = [1,2,3,4,5]\n",
    "b = [2,1,3,4,5]\n",
    "c = [5,4,3,2,1]\n",
    "d = [5,4,1,3,2]\n",
    "\n",
    "print(find_two_smallest_1(counts))\n",
    "print(find_two_smallest_1(a))\n",
    "print(find_two_smallest_1(b))\n",
    "print(find_two_smallest_1(c))\n",
    "print(find_two_smallest_1(d))\n",
    "\n",
    "print(find_two_smallest_2(counts))\n",
    "print(find_two_smallest_2(a))\n",
    "print(find_two_smallest_2(b))\n",
    "print(find_two_smallest_2(c))\n",
    "print(find_two_smallest_2(d))\n",
    "    \n",
    "print(find_two_smallest_3(counts))\n",
    "print(find_two_smallest_3(a))\n",
    "print(find_two_smallest_3(b))\n",
    "print(find_two_smallest_3(c))\n",
    "print(find_two_smallest_3(d))\n",
    "    "
   ]
  }
 ],
 "metadata": {
  "kernelspec": {
   "display_name": "Python 3",
   "language": "python",
   "name": "python3"
  },
  "language_info": {
   "codemirror_mode": {
    "name": "ipython",
    "version": 3
   },
   "file_extension": ".py",
   "mimetype": "text/x-python",
   "name": "python",
   "nbconvert_exporter": "python",
   "pygments_lexer": "ipython3",
   "version": "3.7.6"
  }
 },
 "nbformat": 4,
 "nbformat_minor": 4
}
